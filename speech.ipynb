{
 "cells": [
  {
   "cell_type": "code",
   "execution_count": 1,
   "metadata": {},
   "outputs": [
    {
     "name": "stdout",
     "output_type": "stream",
     "text": [
      "Collecting voskNote: you may need to restart the kernel to use updated packages.\n",
      "\n",
      "  Downloading vosk-0.3.45-py3-none-win_amd64.whl.metadata (1.8 kB)\n",
      "Requirement already satisfied: cffi>=1.0 in c:\\users\\sadhika\\appdata\\local\\programs\\python\\python311\\lib\\site-packages (from vosk) (1.17.1)\n",
      "Requirement already satisfied: requests in c:\\users\\sadhika\\appdata\\local\\programs\\python\\python311\\lib\\site-packages (from vosk) (2.31.0)\n",
      "Collecting srt (from vosk)\n",
      "  Downloading srt-3.5.3.tar.gz (28 kB)\n",
      "  Preparing metadata (setup.py): started\n",
      "  Preparing metadata (setup.py): finished with status 'done'\n",
      "Requirement already satisfied: tqdm in c:\\users\\sadhika\\appdata\\local\\programs\\python\\python311\\lib\\site-packages (from vosk) (4.66.5)\n",
      "Collecting websockets (from vosk)\n",
      "  Downloading websockets-15.0-cp311-cp311-win_amd64.whl.metadata (7.0 kB)\n",
      "Requirement already satisfied: pycparser in c:\\users\\sadhika\\appdata\\local\\programs\\python\\python311\\lib\\site-packages (from cffi>=1.0->vosk) (2.22)\n",
      "Requirement already satisfied: charset-normalizer<4,>=2 in c:\\users\\sadhika\\appdata\\local\\programs\\python\\python311\\lib\\site-packages (from requests->vosk) (3.3.2)\n",
      "Requirement already satisfied: idna<4,>=2.5 in c:\\users\\sadhika\\appdata\\local\\programs\\python\\python311\\lib\\site-packages (from requests->vosk) (3.4)\n",
      "Requirement already satisfied: urllib3<3,>=1.21.1 in c:\\users\\sadhika\\appdata\\local\\programs\\python\\python311\\lib\\site-packages (from requests->vosk) (2.0.7)\n",
      "Requirement already satisfied: certifi>=2017.4.17 in c:\\users\\sadhika\\appdata\\local\\programs\\python\\python311\\lib\\site-packages (from requests->vosk) (2023.7.22)\n",
      "Requirement already satisfied: colorama in c:\\users\\sadhika\\appdata\\local\\programs\\python\\python311\\lib\\site-packages (from tqdm->vosk) (0.4.6)\n",
      "Downloading vosk-0.3.45-py3-none-win_amd64.whl (14.0 MB)\n",
      "   ---------------------------------------- 0.0/14.0 MB ? eta -:--:--\n",
      "   ---------------------------------------- 0.0/14.0 MB ? eta -:--:--\n",
      "   - -------------------------------------- 0.5/14.0 MB 2.1 MB/s eta 0:00:07\n",
      "   -- ------------------------------------- 0.8/14.0 MB 2.1 MB/s eta 0:00:07\n",
      "   --- ------------------------------------ 1.3/14.0 MB 2.0 MB/s eta 0:00:07\n",
      "   ---- ----------------------------------- 1.6/14.0 MB 1.7 MB/s eta 0:00:08\n",
      "   ---- ----------------------------------- 1.6/14.0 MB 1.7 MB/s eta 0:00:08\n",
      "   ---- ----------------------------------- 1.6/14.0 MB 1.7 MB/s eta 0:00:08\n",
      "   ----- ---------------------------------- 1.8/14.0 MB 1.3 MB/s eta 0:00:10\n",
      "   ----- ---------------------------------- 1.8/14.0 MB 1.3 MB/s eta 0:00:10\n",
      "   ----- ---------------------------------- 1.8/14.0 MB 1.3 MB/s eta 0:00:10\n",
      "   ----- ---------------------------------- 2.1/14.0 MB 903.5 kB/s eta 0:00:14\n",
      "   ------ --------------------------------- 2.4/14.0 MB 994.4 kB/s eta 0:00:12\n",
      "   ------- -------------------------------- 2.6/14.0 MB 980.6 kB/s eta 0:00:12\n",
      "   ------- -------------------------------- 2.6/14.0 MB 980.6 kB/s eta 0:00:12\n",
      "   ------- -------------------------------- 2.6/14.0 MB 980.6 kB/s eta 0:00:12\n",
      "   -------- ------------------------------- 2.9/14.0 MB 902.1 kB/s eta 0:00:13\n",
      "   -------- ------------------------------- 2.9/14.0 MB 902.1 kB/s eta 0:00:13\n",
      "   -------- ------------------------------- 3.1/14.0 MB 827.7 kB/s eta 0:00:14\n",
      "   -------- ------------------------------- 3.1/14.0 MB 827.7 kB/s eta 0:00:14\n",
      "   -------- ------------------------------- 3.1/14.0 MB 827.7 kB/s eta 0:00:14\n",
      "   -------- ------------------------------- 3.1/14.0 MB 827.7 kB/s eta 0:00:14\n",
      "   --------- ------------------------------ 3.4/14.0 MB 737.6 kB/s eta 0:00:15\n",
      "   --------- ------------------------------ 3.4/14.0 MB 737.6 kB/s eta 0:00:15\n",
      "   ---------- ----------------------------- 3.7/14.0 MB 736.8 kB/s eta 0:00:15\n",
      "   ----------- ---------------------------- 3.9/14.0 MB 755.3 kB/s eta 0:00:14\n",
      "   ----------- ---------------------------- 4.2/14.0 MB 755.7 kB/s eta 0:00:13\n",
      "   ----------- ---------------------------- 4.2/14.0 MB 755.7 kB/s eta 0:00:13\n",
      "   ----------- ---------------------------- 4.2/14.0 MB 755.7 kB/s eta 0:00:13\n",
      "   ------------ --------------------------- 4.5/14.0 MB 721.7 kB/s eta 0:00:14\n",
      "   ------------ --------------------------- 4.5/14.0 MB 721.7 kB/s eta 0:00:14\n",
      "   ------------- -------------------------- 4.7/14.0 MB 727.6 kB/s eta 0:00:13\n",
      "   ------------- -------------------------- 4.7/14.0 MB 727.6 kB/s eta 0:00:13\n",
      "   -------------- ------------------------- 5.0/14.0 MB 715.7 kB/s eta 0:00:13\n",
      "   -------------- ------------------------- 5.2/14.0 MB 722.9 kB/s eta 0:00:13\n",
      "   -------------- ------------------------- 5.2/14.0 MB 722.9 kB/s eta 0:00:13\n",
      "   --------------- ------------------------ 5.5/14.0 MB 715.5 kB/s eta 0:00:12\n",
      "   --------------- ------------------------ 5.5/14.0 MB 715.5 kB/s eta 0:00:12\n",
      "   ---------------- ----------------------- 5.8/14.0 MB 716.1 kB/s eta 0:00:12\n",
      "   ---------------- ----------------------- 5.8/14.0 MB 716.1 kB/s eta 0:00:12\n",
      "   ----------------- ---------------------- 6.0/14.0 MB 716.7 kB/s eta 0:00:12\n",
      "   ----------------- ---------------------- 6.3/14.0 MB 733.7 kB/s eta 0:00:11\n",
      "   ------------------ --------------------- 6.6/14.0 MB 737.5 kB/s eta 0:00:11\n",
      "   ------------------- -------------------- 6.8/14.0 MB 750.4 kB/s eta 0:00:10\n",
      "   -------------------- ------------------- 7.1/14.0 MB 762.6 kB/s eta 0:00:10\n",
      "   -------------------- ------------------- 7.1/14.0 MB 762.6 kB/s eta 0:00:10\n",
      "   -------------------- ------------------- 7.3/14.0 MB 761.3 kB/s eta 0:00:09\n",
      "   -------------------- ------------------- 7.3/14.0 MB 761.3 kB/s eta 0:00:09\n",
      "   --------------------- ------------------ 7.6/14.0 MB 755.3 kB/s eta 0:00:09\n",
      "   ---------------------- ----------------- 7.9/14.0 MB 760.2 kB/s eta 0:00:09\n",
      "   ----------------------- ---------------- 8.1/14.0 MB 769.7 kB/s eta 0:00:08\n",
      "   ----------------------- ---------------- 8.4/14.0 MB 780.9 kB/s eta 0:00:08\n",
      "   ------------------------ --------------- 8.7/14.0 MB 788.4 kB/s eta 0:00:07\n",
      "   ------------------------ --------------- 8.7/14.0 MB 788.4 kB/s eta 0:00:07\n",
      "   ------------------------- -------------- 8.9/14.0 MB 779.8 kB/s eta 0:00:07\n",
      "   ------------------------- -------------- 8.9/14.0 MB 779.8 kB/s eta 0:00:07\n",
      "   -------------------------- ------------- 9.2/14.0 MB 782.5 kB/s eta 0:00:07\n",
      "   -------------------------- ------------- 9.4/14.0 MB 790.3 kB/s eta 0:00:06\n",
      "   -------------------------- ------------- 9.4/14.0 MB 790.3 kB/s eta 0:00:06\n",
      "   --------------------------- ------------ 9.7/14.0 MB 784.4 kB/s eta 0:00:06\n",
      "   ---------------------------- ----------- 10.0/14.0 MB 789.8 kB/s eta 0:00:06\n",
      "   ---------------------------- ----------- 10.0/14.0 MB 789.8 kB/s eta 0:00:06\n",
      "   ----------------------------- ---------- 10.2/14.0 MB 786.1 kB/s eta 0:00:05\n",
      "   ----------------------------- ---------- 10.5/14.0 MB 789.3 kB/s eta 0:00:05\n",
      "   ----------------------------- ---------- 10.5/14.0 MB 789.3 kB/s eta 0:00:05\n",
      "   ------------------------------ --------- 10.7/14.0 MB 792.3 kB/s eta 0:00:05\n",
      "   ------------------------------- -------- 11.0/14.0 MB 795.3 kB/s eta 0:00:04\n",
      "   -------------------------------- ------- 11.3/14.0 MB 801.7 kB/s eta 0:00:04\n",
      "   -------------------------------- ------- 11.5/14.0 MB 805.2 kB/s eta 0:00:04\n",
      "   -------------------------------- ------- 11.5/14.0 MB 805.2 kB/s eta 0:00:04\n",
      "   --------------------------------- ------ 11.8/14.0 MB 805.9 kB/s eta 0:00:03\n",
      "   --------------------------------- ------ 11.8/14.0 MB 805.9 kB/s eta 0:00:03\n",
      "   ---------------------------------- ----- 12.1/14.0 MB 794.8 kB/s eta 0:00:03\n",
      "   ----------------------------------- ---- 12.3/14.0 MB 805.6 kB/s eta 0:00:03\n",
      "   ----------------------------------- ---- 12.3/14.0 MB 805.6 kB/s eta 0:00:03\n",
      "   ----------------------------------- ---- 12.6/14.0 MB 799.7 kB/s eta 0:00:02\n",
      "   ------------------------------------ --- 12.8/14.0 MB 802.1 kB/s eta 0:00:02\n",
      "   ------------------------------------ --- 12.8/14.0 MB 802.1 kB/s eta 0:00:02\n",
      "   ------------------------------------- -- 13.1/14.0 MB 804.4 kB/s eta 0:00:02\n",
      "   ------------------------------------- -- 13.1/14.0 MB 804.4 kB/s eta 0:00:02\n",
      "   -------------------------------------- - 13.4/14.0 MB 800.4 kB/s eta 0:00:01\n",
      "   -------------------------------------- - 13.4/14.0 MB 800.4 kB/s eta 0:00:01\n",
      "   -------------------------------------- - 13.6/14.0 MB 792.3 kB/s eta 0:00:01\n",
      "   ---------------------------------------  13.9/14.0 MB 794.6 kB/s eta 0:00:01\n",
      "   ---------------------------------------- 14.0/14.0 MB 793.4 kB/s eta 0:00:00\n",
      "Downloading websockets-15.0-cp311-cp311-win_amd64.whl (176 kB)\n",
      "Building wheels for collected packages: srt\n",
      "  Building wheel for srt (setup.py): started\n",
      "  Building wheel for srt (setup.py): finished with status 'done'\n",
      "  Created wheel for srt: filename=srt-3.5.3-py3-none-any.whl size=22557 sha256=00de5c9b75dfec1d75f00f83187105b1a76b11016469852ae5aed7c0856194f0\n",
      "  Stored in directory: c:\\users\\sadhika\\appdata\\local\\pip\\cache\\wheels\\1f\\43\\f1\\23ee9119497fcb57d9f7046fbf34c6d9027c46a1fa7824cf08\n",
      "Successfully built srt\n",
      "Installing collected packages: websockets, srt, vosk\n",
      "Successfully installed srt-3.5.3 vosk-0.3.45 websockets-15.0\n"
     ]
    },
    {
     "name": "stderr",
     "output_type": "stream",
     "text": [
      "WARNING: Ignoring invalid distribution ~ip (c:\\Users\\Sadhika\\AppData\\Local\\Programs\\Python\\Python311\\Lib\\site-packages)\n",
      "WARNING: Ignoring invalid distribution ~ip (c:\\Users\\Sadhika\\AppData\\Local\\Programs\\Python\\Python311\\Lib\\site-packages)\n",
      "WARNING: Ignoring invalid distribution ~ip (c:\\Users\\Sadhika\\AppData\\Local\\Programs\\Python\\Python311\\Lib\\site-packages)\n"
     ]
    }
   ],
   "source": [
    "pip install vosk"
   ]
  },
  {
   "cell_type": "code",
   "execution_count": null,
   "metadata": {},
   "outputs": [],
   "source": [
    "%pip install pydub\n",
    "from transformers import pipeline\n",
    "summarizer = pipeline(\"summarization\")"
   ]
  },
  {
   "cell_type": "code",
   "execution_count": null,
   "metadata": {},
   "outputs": [],
   "source": [
    "from vosk import Model, KaldiRecognizer\n",
    "\n",
    "FRAME_RATE = 16000\n",
    "CHANNELS=1\n",
    "\n",
    "model = Model(model_name=\"vosk-model-en-us-0.22\")\n",
    "# For a smaller download size, use model = Model(model_name=\"vosk-model-small-en-us-0.15\")\n",
    "rec = KaldiRecognizer(model, FRAME_RATE)\n",
    "rec.SetWords(True)"
   ]
  },
  {
   "cell_type": "code",
   "execution_count": null,
   "metadata": {},
   "outputs": [],
   "source": [
    "import json\n",
    "from pydub import AudioSegment\n",
    "mp3 = AudioSegment.from_mp3(\"marketplace.mp3\")\n",
    "mp3 = mp3.set_channels(CHANNELS)\n",
    "mp3 = mp3.set_frame_rate(FRAME_RATE)\n",
    "rec.AcceptWaveform(mp3.raw_data)\n",
    "result = rec.Result()\n",
    "\n",
    "text = json.loads(result)[\"text\"]\n",
    "\n",
    "def voice_recognition(filename):\n",
    "    model = Model(model_name=\"vosk-model-small-en-us-0.15\")\n",
    "    rec = KaldiRecognizer(model, FRAME_RATE)\n",
    "    rec.SetWords(True)\n",
    "\n",
    "    mp3 = AudioSegment.from_mp3(filename)\n",
    "    mp3 = mp3.set_channels(CHANNELS)\n",
    "    mp3 = mp3.set_frame_rate(FRAME_RATE)\n",
    "\n",
    "    step = 45000\n",
    "    transcript = \"\"\n",
    "    for i in range(0, len(mp3), step):\n",
    "        print(f\"Progress: {i/len(mp3)}\")\n",
    "        segment = mp3[i:i+step]\n",
    "        rec.AcceptWaveform(segment.raw_data)\n",
    "        result = rec.Result()\n",
    "        text = json.loads(result)[\"text\"]\n",
    "        transcript += text"
   ]
  },
  {
   "cell_type": "code",
   "execution_count": null,
   "metadata": {},
   "outputs": [],
   "source": [
    "transcript = voice_recognition(\"marketplace.mp3\")"
   ]
  },
  {
   "cell_type": "code",
   "execution_count": null,
   "metadata": {},
   "outputs": [],
   "source": [
    "%ffmpeg -i marketplace.mp3 marketplace.wav\n"
   ]
  },
  {
   "cell_type": "code",
   "execution_count": null,
   "metadata": {},
   "outputs": [],
   "source": [
    "%pip install SpeechRecognition\n"
   ]
  },
  {
   "cell_type": "code",
   "execution_count": null,
   "metadata": {},
   "outputs": [],
   "source": [
    "import speech_recognition as sr\n",
    "\n",
    "def voice_recognition(audio_file):\n",
    "    recognizer = sr.Recognizer()\n",
    "    with sr.AudioFile(audio_file) as source:\n",
    "        audio = recognizer.record(source)  # Capture audio\n",
    "        try:\n",
    "            transcript = recognizer.recognize_google(audio)\n",
    "            return transcript\n",
    "        except sr.UnknownValueError:\n",
    "            return \"Could not understand the audio\"\n",
    "        except sr.RequestError:\n",
    "            return \"Error with the Speech Recognition API\"\n",
    "\n",
    "transcript = voice_recognition(\"marketplace.wav\")\n",
    "print(transcript)\n"
   ]
  },
  {
   "cell_type": "code",
   "execution_count": null,
   "metadata": {},
   "outputs": [],
   "source": [
    "split_tokens = transcript.split(\" \")\n",
    "docs = []\n",
    "for i in range(0, len(split_tokens), 850):\n",
    "    selection = \" \".join(split_tokens[i:(i+850)])\n",
    "    docs.append(selection)"
   ]
  },
  {
   "cell_type": "code",
   "execution_count": null,
   "metadata": {},
   "outputs": [],
   "source": [
    "summaries = summarizer(docs)\n",
    "summary = \"\\n\\n\".join([d[\"summary_text\"] for d in summaries])\n",
    "print(summary)"
   ]
  }
 ],
 "metadata": {
  "kernelspec": {
   "display_name": "Python 3",
   "language": "python",
   "name": "python3"
  },
  "language_info": {
   "codemirror_mode": {
    "name": "ipython",
    "version": 3
   },
   "file_extension": ".py",
   "mimetype": "text/x-python",
   "name": "python",
   "nbconvert_exporter": "python",
   "pygments_lexer": "ipython3",
   "version": "3.11.2"
  }
 },
 "nbformat": 4,
 "nbformat_minor": 2
}
